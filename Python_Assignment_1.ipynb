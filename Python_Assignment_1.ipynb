{
  "cells": [
    {
      "cell_type": "markdown",
      "metadata": {
        "id": "view-in-github",
        "colab_type": "text"
      },
      "source": [
        "<a href=\"https://colab.research.google.com/github/fardinniyaz/PythonProgramming-II/blob/main/Python_Assignment_1.ipynb\" target=\"_parent\"><img src=\"https://colab.research.google.com/assets/colab-badge.svg\" alt=\"Open In Colab\"/></a>"
      ]
    },
    {
      "cell_type": "markdown",
      "metadata": {
        "id": "gs6JvD06aflC"
      },
      "source": [
        "**Section A: FUNDAMENTALS OF PYTHON**"
      ]
    },
    {
      "cell_type": "code",
      "execution_count": null,
      "metadata": {
        "colab": {
          "base_uri": "https://localhost:8080/"
        },
        "id": "CRBXyWEdP8re",
        "outputId": "f50a9173-a80f-4c1d-8f91-ae89156a7c81"
      },
      "outputs": [
        {
          "output_type": "stream",
          "name": "stdout",
          "text": [
            "Hello Python\n"
          ]
        }
      ],
      "source": [
        "# Write a python program to print\"hello python\"\n",
        "a= \"Hello Python\"\n",
        "print(a)"
      ]
    },
    {
      "cell_type": "code",
      "execution_count": null,
      "metadata": {
        "colab": {
          "base_uri": "https://localhost:8080/"
        },
        "id": "UTXQZq-DXcHA",
        "outputId": "52916c75-0f3f-4919-9423-e35f7cdfc351"
      },
      "outputs": [
        {
          "name": "stdout",
          "output_type": "stream",
          "text": [
            "30\n",
            "2.0\n"
          ]
        }
      ],
      "source": [
        "# Write a python program to do arithmetical operations addition and division.\n",
        "a=20\n",
        "b=10\n",
        "print(a+b)\n",
        "print(a/b)"
      ]
    },
    {
      "cell_type": "code",
      "execution_count": null,
      "metadata": {
        "colab": {
          "base_uri": "https://localhost:8080/"
        },
        "id": "qjPApNgdba02",
        "outputId": "f1b97dc9-c67e-46d1-e56a-8c42e35df09e"
      },
      "outputs": [
        {
          "name": "stdout",
          "output_type": "stream",
          "text": [
            "900.0\n"
          ]
        }
      ],
      "source": [
        "# Write a python program to find the area of a triangle.\n",
        "base=30\n",
        "height=60\n",
        "print(0.5*base*height)"
      ]
    },
    {
      "cell_type": "code",
      "execution_count": null,
      "metadata": {
        "colab": {
          "base_uri": "https://localhost:8080/"
        },
        "id": "I6yfnX3WcPwd",
        "outputId": "56a635cc-023d-4a48-c646-03a0f9ba264b"
      },
      "outputs": [
        {
          "name": "stdout",
          "output_type": "stream",
          "text": [
            "a=  20\n",
            "b=  10\n"
          ]
        }
      ],
      "source": [
        "# Write a python program to swap two variables.\n",
        "a=10\n",
        "b=20\n",
        "a,b=b,a\n",
        "print(\"a= \",a)\n",
        "print(\"b= \",b)"
      ]
    },
    {
      "cell_type": "code",
      "execution_count": null,
      "metadata": {
        "colab": {
          "base_uri": "https://localhost:8080/"
        },
        "id": "RxGeUUgid8fj",
        "outputId": "620ab8c4-613b-4886-f700-8c7929a7c19c"
      },
      "outputs": [
        {
          "name": "stdout",
          "output_type": "stream",
          "text": [
            "Number=  0.5429269709366017\n"
          ]
        }
      ],
      "source": [
        "# Write a python program to generate a random number.\n",
        "import random\n",
        "n=random.random()\n",
        "print(\"Number= \",n)"
      ]
    },
    {
      "cell_type": "markdown",
      "metadata": {
        "id": "eoKOUn8S_zem"
      },
      "source": [
        "***Section B:***"
      ]
    },
    {
      "cell_type": "code",
      "execution_count": null,
      "metadata": {
        "colab": {
          "base_uri": "https://localhost:8080/"
        },
        "id": "duCu9Aaq_9om",
        "outputId": "9f99279a-8e9f-4f73-b3a9-bad2625dc4c4"
      },
      "outputs": [
        {
          "name": "stdout",
          "output_type": "stream",
          "text": [
            "enter kilometer value: 3.5\n",
            "3.5 kilometer is 2.1747985 miles\n"
          ]
        }
      ],
      "source": [
        "# Write a python program to convert kilometer to miles.\n",
        "kilometer = float(input(\"enter kilometer value: \"))\n",
        "miles = kilometer*0.621371\n",
        "print(kilometer,\"kilometer is equal to\",miles,\"miles\") "
      ]
    },
    {
      "cell_type": "code",
      "execution_count": null,
      "metadata": {
        "colab": {
          "base_uri": "https://localhost:8080/"
        },
        "id": "3ulXyPXkA8bA",
        "outputId": "0da0f214-a2db-46ae-d371-9d5ffe825ba5"
      },
      "outputs": [
        {
          "name": "stdout",
          "output_type": "stream",
          "text": [
            "enter the value of temperatue in degree celsius: 37.5\n",
            "37.5 degree celsius is equal to 99.5 fahrenheit\n"
          ]
        }
      ],
      "source": [
        "# Write a python program to convert celsius to fahrenheit.\n",
        "celsius = float(input(\"enter the value of temperatue in degree celsius: \"))\n",
        "fahrenheit = (celsius*1.8) + 32\n",
        "print(celsius,\"degree celsius is equal to\",fahrenheit,\"fahrenheit\")"
      ]
    },
    {
      "cell_type": "code",
      "execution_count": null,
      "metadata": {
        "colab": {
          "base_uri": "https://localhost:8080/"
        },
        "id": "7Xy0BPS7DCIF",
        "outputId": "8bc79f2f-7456-446d-ef1d-e26c460a1880"
      },
      "outputs": [
        {
          "output_type": "stream",
          "name": "stdout",
          "text": [
            "enter the year: 2006\n",
            "enter the month: 10\n",
            "    October 2006\n",
            "Mo Tu We Th Fr Sa Su\n",
            "                   1\n",
            " 2  3  4  5  6  7  8\n",
            " 9 10 11 12 13 14 15\n",
            "16 17 18 19 20 21 22\n",
            "23 24 25 26 27 28 29\n",
            "30 31\n",
            "\n"
          ]
        }
      ],
      "source": [
        "# write a python program to display calendar.\n",
        "import calendar \n",
        "year = int(input(\"enter the year: \"))\n",
        "mon= int(input(\"enter the month: \"))\n",
        "print(calendar.month(year,mon))"
      ]
    },
    {
      "cell_type": "code",
      "source": [
        "# Write a python program to solve quadratic equation.\n",
        "import cmath\n",
        "a = 1\n",
        "b = 5\n",
        "c = 6\n",
        "d = (b**2)-(4*a*c)\n",
        "sol1 = (-b-cmath.sqrt(d))/(2*a)\n",
        "sol2 = (-b+cmath.sqrt(d))/(2*a)\n",
        "print('The solutions are {0} and {1}'.format(sol1,sol2))"
      ],
      "metadata": {
        "colab": {
          "base_uri": "https://localhost:8080/"
        },
        "id": "F5tdISDaIeqV",
        "outputId": "95974eb5-cb0c-44b5-c860-9a3542330f58"
      },
      "execution_count": null,
      "outputs": [
        {
          "output_type": "stream",
          "name": "stdout",
          "text": [
            "The solutions are (-3+0j) and (-2+0j)\n"
          ]
        }
      ]
    },
    {
      "cell_type": "code",
      "source": [
        "# Write a python program to swap two variables without temp variable.\n",
        "x = 10\n",
        "y = 5\n",
        "x = x+y\n",
        "y = x-y\n",
        "x = x-y\n",
        "print('After swapping: x =',x,'y=',y)"
      ],
      "metadata": {
        "colab": {
          "base_uri": "https://localhost:8080/"
        },
        "id": "JdG4SiVqKfov",
        "outputId": "96194e78-cc0a-41d6-bd0f-8e0572efdc92"
      },
      "execution_count": null,
      "outputs": [
        {
          "output_type": "stream",
          "name": "stdout",
          "text": [
            "After swapping: x = 5 y= 10\n"
          ]
        }
      ]
    },
    {
      "cell_type": "code",
      "source": [
        "# Write a python program to check if a number is positive,negative or zero.\n",
        "num = float(input(\"Enter a number: \"))\n",
        "if num >= 0:\n",
        "  if num == 0:\n",
        "    print(\"Zero\")\n",
        "  else:\n",
        "    print(\"Positive number\")\n",
        "else:\n",
        "  print(\"Negative number\")    "
      ],
      "metadata": {
        "id": "DsAwAMHhNdKC",
        "colab": {
          "base_uri": "https://localhost:8080/"
        },
        "outputId": "14f2112a-0223-4039-e925-ec7ce1d3845c"
      },
      "execution_count": null,
      "outputs": [
        {
          "output_type": "stream",
          "name": "stdout",
          "text": [
            "Enter a number: -6\n",
            "Negative number\n"
          ]
        }
      ]
    },
    {
      "cell_type": "code",
      "source": [
        "# Write a python program to check if a number is odd or even.\n",
        "num = int(input(\"Enter a number:\"))\n",
        "if (num%2)==0:\n",
        "  print(\"{0} is Even\".format(num))\n",
        "else:\n",
        "  print(\"{0} is Odd\".format(num))  "
      ],
      "metadata": {
        "colab": {
          "base_uri": "https://localhost:8080/"
        },
        "id": "x6O1ppnpQXUR",
        "outputId": "c15703f3-b00f-4652-99f3-d16dba169542"
      },
      "execution_count": null,
      "outputs": [
        {
          "output_type": "stream",
          "name": "stdout",
          "text": [
            "Enter a number:2\n",
            "2 is Even\n"
          ]
        }
      ]
    },
    {
      "cell_type": "code",
      "source": [
        "# Write a python program to check leap year. \n",
        "year = int(input(\"Enter a year: \"))\n",
        "if ((year % 4 == 0) and (year % 100 == 0) or (year%400 == 0)):\n",
        "  print(\"{0} is a leap year\".format(year))\n",
        "else:\n",
        "  print(\"{0} is not a leap year\".format(year))   "
      ],
      "metadata": {
        "colab": {
          "base_uri": "https://localhost:8080/"
        },
        "id": "KAc0YMdoRMVF",
        "outputId": "73d26f43-b331-4668-c23b-b82241cfdb52"
      },
      "execution_count": null,
      "outputs": [
        {
          "output_type": "stream",
          "name": "stdout",
          "text": [
            "Enter a year: 2006\n",
            "2006 is not a leap year\n"
          ]
        }
      ]
    },
    {
      "cell_type": "code",
      "source": [
        "# Write a python program to check prime number.\n",
        "num = int(input(\"Enter a number: \"))\n",
        "flag = False\n",
        "if num > 1:\n",
        "  for i in range(2,num):\n",
        "    flag = True\n",
        "    break\n",
        "if flag:\n",
        "  print(num, \"is not a prime number\")\n",
        "else:\n",
        "  print(num, \"is a prime number\")"
      ],
      "metadata": {
        "colab": {
          "base_uri": "https://localhost:8080/"
        },
        "id": "NBkUif-WSVCt",
        "outputId": "11d7b6c9-29b3-4a2d-99ee-b9587524ae13"
      },
      "execution_count": null,
      "outputs": [
        {
          "output_type": "stream",
          "name": "stdout",
          "text": [
            "Enter a number: 4\n",
            "4 is not a prime number\n"
          ]
        }
      ]
    },
    {
      "cell_type": "code",
      "source": [
        "# Write a python program to print all prime numbers in an interval of 1-10000.\n",
        "lower = int(input(\"Enter lower range: \"))\n",
        "upper = int(input(\"Enter upper range: \"))\n",
        "print(\"Prime numbers between\",lower, \"and\", upper, \"are:\")\n",
        "for num in range(lower ,upper + 1):\n",
        "  if num > 1:\n",
        "    for i in range(2, num):\n",
        "      if (num % i) == 0:\n",
        "        break\n",
        "    else:\n",
        "        print(num)"
      ],
      "metadata": {
        "id": "zza9_AxbWBzt"
      },
      "execution_count": null,
      "outputs": []
    },
    {
      "cell_type": "markdown",
      "source": [
        "***section:D***"
      ],
      "metadata": {
        "id": "V_t3Ipj-XwMa"
      }
    },
    {
      "cell_type": "code",
      "source": [
        "# Write a python program to find the factorial of a number.\n",
        "num = int(input(\"Enter a number: \"))\n",
        "factorial = 1\n",
        "if num < 0:\n",
        "  print(\"Sorry, factorial does not exist for negative numbers\")\n",
        "elif num == 0:\n",
        "  print(\"the factorial of 0 is 1\")\n",
        "else:\n",
        "  for i in range(1,num + 1):\n",
        "    factorial = factorial*i\n",
        "  print(\"The factorial of\",num,\"is\",factorial)"
      ],
      "metadata": {
        "colab": {
          "base_uri": "https://localhost:8080/"
        },
        "id": "-BMLlcSAXp80",
        "outputId": "b072bbfb-8886-491f-d499-fdb26f99410e"
      },
      "execution_count": null,
      "outputs": [
        {
          "output_type": "stream",
          "name": "stdout",
          "text": [
            "Enter a number: 7\n",
            "The factorial of 7 is 5040\n"
          ]
        }
      ]
    },
    {
      "cell_type": "code",
      "source": [
        "# Write a python program to display the multiplication table.\n",
        "num = int(input(\"Display multiplication table of: \"))\n",
        "for i in range(1,num):\n",
        "  print(num,\"x\", i, \"=\",num*i)"
      ],
      "metadata": {
        "colab": {
          "base_uri": "https://localhost:8080/"
        },
        "id": "WFY9isIqZT3u",
        "outputId": "e91cf754-c29e-44f7-a842-a57425610310"
      },
      "execution_count": null,
      "outputs": [
        {
          "output_type": "stream",
          "name": "stdout",
          "text": [
            "Display multiplication table of: 7\n",
            "7 x 1 = 7\n",
            "7 x 2 = 14\n",
            "7 x 3 = 21\n",
            "7 x 4 = 28\n",
            "7 x 5 = 35\n",
            "7 x 6 = 42\n"
          ]
        }
      ]
    },
    {
      "cell_type": "code",
      "source": [
        "# Write a python program to print fibonacci sequence.\n",
        "nterms = int(input(\"How many terms?\"))\n",
        "n1, n2 = 0, 1\n",
        "count = 0\n",
        "if nterms <= 0:\n",
        "  print(\"please enter a positive integer\")\n",
        "elif nterms == 1:\n",
        "  print(\"Fibonacci sequence upto\",nterms,\":\")\n",
        "  print(n1)\n",
        "else:\n",
        "  print(\"Fibonacci sequence:\")\n",
        "  while count < nterms:\n",
        "    print(n1)\n",
        "    nth = n1 + n2\n",
        "    n1 = n2\n",
        "    n2 = nth\n",
        "    count +=1"
      ],
      "metadata": {
        "colab": {
          "base_uri": "https://localhost:8080/"
        },
        "id": "7qMYMAlRcwHe",
        "outputId": "3f2dbf3f-94d0-46b9-e16f-6f1d9c293f93"
      },
      "execution_count": null,
      "outputs": [
        {
          "output_type": "stream",
          "name": "stdout",
          "text": [
            "How many terms?10\n",
            "Fibonacci sequence:\n",
            "0\n",
            "1\n",
            "1\n",
            "2\n",
            "3\n",
            "5\n",
            "8\n",
            "13\n",
            "21\n",
            "34\n"
          ]
        }
      ]
    },
    {
      "cell_type": "code",
      "source": [
        "# Write a python program to check armstrong number.\n",
        "num = int(input(\"Enter a number: \"))\n",
        "sum = 0\n",
        "temp = num\n",
        "while temp > 0:\n",
        "  digit = temp % 10\n",
        "  sum += digit**3\n",
        "  temp //= 10\n",
        "if num == sum:\n",
        "  print(num,\"is an Armstrong number.\")\n",
        "else:\n",
        "  print(num,\"is not an Armstrong number.\")"
      ],
      "metadata": {
        "colab": {
          "base_uri": "https://localhost:8080/"
        },
        "id": "vpOK9-74c3qt",
        "outputId": "a1a9d429-cdb4-448b-fc9a-b9c04e5ab8ca"
      },
      "execution_count": null,
      "outputs": [
        {
          "output_type": "stream",
          "name": "stdout",
          "text": [
            "Enter a number: 3\n",
            "3 is not an Armstrong number.\n"
          ]
        }
      ]
    },
    {
      "cell_type": "code",
      "source": [
        "# Write a python program to find armstrong number in an interval.\n",
        "lower = int(input(\"Enter lower range: \"))\n",
        "upper = int(input(\"Enter upper range: \"))\n",
        "for num in range(lower , upper + 1):\n",
        "  order = len(str(num))\n",
        "  sum = 0\n",
        "  temp = num\n",
        "  while temp > 0:\n",
        "    digit = temp % 10\n",
        "    sum += digit**order\n",
        "    temp//= 10\n",
        "  if num == sum:\n",
        "    print(num)"
      ],
      "metadata": {
        "colab": {
          "base_uri": "https://localhost:8080/"
        },
        "id": "eaRCFmXadBEH",
        "outputId": "fb35a8d9-f491-4c18-bb68-9580b9ffaa2d"
      },
      "execution_count": null,
      "outputs": [
        {
          "output_type": "stream",
          "name": "stdout",
          "text": [
            "Enter lower range: 100\n",
            "Enter upper range: 20000\n",
            "153\n",
            "370\n",
            "371\n",
            "407\n",
            "1634\n",
            "8208\n",
            "9474\n"
          ]
        }
      ]
    },
    {
      "cell_type": "code",
      "source": [
        "# Write a python program to find the sum of natural numbers.\n",
        "num = int(input(\"Enter a number upto which you want to sum: \"))\n",
        "if num < 0:\n",
        "  print(\"Enter a positive number\")\n",
        "else:\n",
        "  sum = 0\n",
        "  while(num > 0):\n",
        "    sum += num\n",
        "    num -= 1\n",
        "  print(\"The sum is\", sum)"
      ],
      "metadata": {
        "id": "aigbPXJDdT8B"
      },
      "execution_count": null,
      "outputs": []
    },
    {
      "cell_type": "markdown",
      "source": [
        "***section:E***"
      ],
      "metadata": {
        "id": "kcf19sh9dbrD"
      }
    },
    {
      "cell_type": "code",
      "source": [
        "#Write a python program to find sum of array.\n",
        "arr = [12,3,4,15]\n",
        "a = sum(arr)\n",
        "print(\"Sum of the array is\",a)"
      ],
      "metadata": {
        "id": "9vY3KrudiFhM"
      },
      "execution_count": null,
      "outputs": []
    },
    {
      "cell_type": "code",
      "source": [
        "#Write a python program to find largest element in an array.\n",
        "def largest(arr, n):\n",
        "  b = max(arr)\n",
        "  return a;\n",
        "if name==\"main\":\n",
        "  arr = [10,324,45,90,9808]\n",
        "  n = len(arr) \n",
        "  print(\"Largest in given array\", largest(arr,n)) "
      ],
      "metadata": {
        "id": "KYuXFWcxIW_v"
      },
      "execution_count": null,
      "outputs": []
    },
    {
      "cell_type": "code",
      "source": [
        "#Write a python program for array rotation.\n",
        "def rotateArray(arr,n,d):\n",
        "  temp = []\n",
        "  i = 0\n",
        "  while(i<d):\n",
        "    temp.append(arr[i])\n",
        "    i = i+1\n",
        "    i = 0\n",
        "    while(d<n):\n",
        "      arr[i] = arr[d]\n",
        "      i = i+1\n",
        "      d = d+1\n",
        "      arr[:] = arr[:1] +temp\n",
        "      return arr\n",
        "arr = [1,2,3,4,5,6,7]\n",
        "print(\"Array after left rotation: \", end ='')\n",
        "print(rotateArray(arr,len(arr),2))"
      ],
      "metadata": {
        "id": "tMEhFdJ9Ja6a"
      },
      "execution_count": null,
      "outputs": []
    },
    {
      "cell_type": "code",
      "source": [
        "#Write a python program to split the array nd add the first part to end.\n",
        "def splitArr(a,n,k):\n",
        "  b = a[:k]\n",
        "  return(a[k::]+b[::])\n",
        "  arr = [12,10,5,6,52,36]\n",
        "  n = len(arr)\n",
        "  position = 2\n",
        "  arr = splitArr(arr,n,position)\n",
        "  for i in range(0,n):\n",
        "    print(arr[i], end ='')"
      ],
      "metadata": {
        "id": "m1zOKxHLLcQW"
      },
      "execution_count": null,
      "outputs": []
    },
    {
      "cell_type": "code",
      "source": [
        "#Write a python program to check if given array is monotonic.\n",
        "def isMonochromatic(A):\n",
        "  return(all(A[i]<= A[i+1] for i in range(len(A) -1))or\n",
        "         all(A[i] >= A[i+1] for i in range(len(A) - 1)))\n",
        "A = [6,5,4,4]\n",
        "print(isMonotonic(A))"
      ],
      "metadata": {
        "id": "3bCPyq2WMyc9"
      },
      "execution_count": null,
      "outputs": []
    },
    {
      "cell_type": "markdown",
      "source": [
        "***section:F***"
      ],
      "metadata": {
        "id": "Iy0C2tCAP699"
      }
    },
    {
      "cell_type": "code",
      "source": [
        "# Write a python program to find sum of elements in list.\n",
        "list = [11,5,17,18,23]\n",
        "total = sum(list)\n",
        "print(\"Sum of all elements in given list: \",total)"
      ],
      "metadata": {
        "id": "MSYXNEIiOYJ8"
      },
      "execution_count": null,
      "outputs": []
    },
    {
      "cell_type": "code",
      "source": [
        "#Write a python program to multiply all numbers in a list.\n",
        "import math\n",
        "list1 = [1,2,3]\n",
        "list2 = [3,2,4]\n",
        "result1 = math.prod(list1)\n",
        "result2 = math.prod(list2)\n",
        "print(result1)\n",
        "print(result2)"
      ],
      "metadata": {
        "id": "nNdiZfdXO8K_"
      },
      "execution_count": null,
      "outputs": []
    },
    {
      "cell_type": "code",
      "source": [
        "# Write a python program to find smallest number in a list.\n",
        "list1 = [10,20,1,45,99]\n",
        "print(\"Smallest element is:\",min(list1))"
      ],
      "metadata": {
        "id": "2PF8LarqPwi1"
      },
      "execution_count": null,
      "outputs": []
    },
    {
      "cell_type": "code",
      "source": [
        "# Write a python program to find largest number in a list.\n",
        "list2 = [10,20,1,45,99]\n",
        "print(\"Largest element is:\",max(list2)"
      ],
      "metadata": {
        "id": "xPJEHDEEQqdF"
      },
      "execution_count": null,
      "outputs": []
    },
    {
      "cell_type": "code",
      "source": [
        "# Write a python program to find Second largest number in a list.\n",
        "list1 = [10,20,20,4,45,45,99,99]\n",
        "list2 = list(set(list1))\n",
        "list2.sort()\n",
        "print(\"Second largest element is:\",list2[-2])"
      ],
      "metadata": {
        "id": "7yml9zxWQ_Z9"
      },
      "execution_count": null,
      "outputs": []
    },
    {
      "cell_type": "code",
      "source": [
        "# Write a python program to find N largest number in a list.\n",
        "def Nmaxelements(list1,N):\n",
        "  final_list = []\n",
        "  for i in range(0,N):\n",
        "    max1 = 0\n",
        "    for j in range(len(list1)):\n",
        "      if list1[j] > max1:\n",
        "        max1 = list1[j];\n",
        "    list1.remove(max1);\n",
        "    final_list.append(max1)\n",
        "  print(final_list)  "
      ],
      "metadata": {
        "id": "dMcJOdn4RwlG"
      },
      "execution_count": null,
      "outputs": []
    },
    {
      "cell_type": "code",
      "source": [
        "#\n",
        "list1 = [10,21,4,45,66,93]\n",
        "for num in list1:\n",
        "  if num%2 ==0:\n",
        "    print(num,end=\" \")"
      ],
      "metadata": {
        "id": "VcsN97KHTMm_"
      },
      "execution_count": null,
      "outputs": []
    },
    {
      "cell_type": "code",
      "source": [
        "# Write a python program to print even numbers in a list.\n",
        "# By using While loop.\n",
        "\n",
        "list1 = [10,24,4,45,66,93]\n",
        "num = 0 \n",
        "while(num< len(list1)):\n",
        "  if list1(num)%2 = =0:\n",
        "    print(list1[num],end=\" \")\n",
        "  num +=1"
      ],
      "metadata": {
        "id": "ElZWwCrqThTk"
      },
      "execution_count": null,
      "outputs": []
    },
    {
      "cell_type": "code",
      "source": [
        "# Write a python program to print odd numbers in a list.\n",
        "# By using for loop.\n",
        "list2 = [10,21,4,45,66,93]\n",
        "for num in list1:\n",
        "  if num%2!=0:\n",
        "    print(num,end =\" \")"
      ],
      "metadata": {
        "id": "D97cvUSbUBqJ"
      },
      "execution_count": null,
      "outputs": []
    },
    {
      "cell_type": "code",
      "source": [
        "# Write a python program to print odd numbers in a list.\n",
        "# By using While loop.\n",
        "list2 = [10,21,4,45,66,93]\n",
        "i =0\n",
        "while(i< len(list2)):\n",
        "  if list[i]%2! =0:\n",
        "    print(list2[i],end=\" \")\n",
        "  i += 1"
      ],
      "metadata": {
        "id": "gyRhPxTrUZ8l"
      },
      "execution_count": null,
      "outputs": []
    },
    {
      "cell_type": "code",
      "source": [
        "# Write a python program to Remove empty list from list.\n",
        "test_list = [5,6,[],3,[],[],9]\n",
        "print(\"The original list is : \" + str(test_list))\n",
        "while [] in test_list:\n",
        "  test_list.remove([])\n",
        "print(\"List after empty list removal: \" = str(test_list))"
      ],
      "metadata": {
        "id": "eGsUUBLAVHpA"
      },
      "execution_count": null,
      "outputs": []
    },
    {
      "cell_type": "code",
      "source": [
        "# Write a python program to Cloning or Copying a list.\n",
        "def Cloning(1i1):\n",
        "  1i_copy =[]\n",
        "  li_copy = 1i1.copy()\n",
        "  return li_copy\n",
        "1i1 = [4,8,2,10,15,18]\n",
        "1i2 = Cloning(1i1)\n",
        "print(\"Original list: \",1i1)\n",
        "print(\"After Clloning: \",1i2)"
      ],
      "metadata": {
        "id": "nuMCRHH5W3xg"
      },
      "execution_count": null,
      "outputs": []
    },
    {
      "cell_type": "code",
      "source": [
        "# Write a python program to count occurrence of elelment in a list.\n",
        "def countX(lst,X):\n",
        "  return lst.count(x)\n",
        "  lst = [8,6,8,10,8,20,10,8,8,9]\n",
        "  x = 8\n",
        "  print(\"{} has occurred {} times\".format(x,countX(lst,x)))"
      ],
      "metadata": {
        "id": "uJUY5jCOXyCD"
      },
      "execution_count": null,
      "outputs": []
    }
  ],
  "metadata": {
    "colab": {
      "collapsed_sections": [],
      "name": "Python Assignment -1.ipynb",
      "provenance": [],
      "authorship_tag": "ABX9TyNxyjY8QLVhTy2C+XkKWKCP",
      "include_colab_link": true
    },
    "kernelspec": {
      "display_name": "Python 3",
      "name": "python3"
    },
    "language_info": {
      "name": "python"
    }
  },
  "nbformat": 4,
  "nbformat_minor": 0
}